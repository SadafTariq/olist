{
 "cells": [
  {
   "cell_type": "code",
   "execution_count": null,
   "metadata": {},
   "outputs": [],
   "source": [
    "import numpy as np \n",
    "import pandas as pd \n",
    "#from googletrans import Translator # for the translation itself\n",
    "import time \n",
    "from textblob import TextBlob\n",
    "import nltk\n",
    "nltk.download('all')\n",
    "from nltk.sentiment.vader import SentimentIntensityAnalyzer"
   ]
  },
  {
   "cell_type": "code",
   "execution_count": null,
   "metadata": {},
   "outputs": [],
   "source": [
    "data = pd.read_excel('C:/Users/Generation UK&I/OneDrive/Desktop/Final project/Reviews.xlsx')\n",
    "print(data.head())"
   ]
  },
  {
   "cell_type": "code",
   "execution_count": null,
   "metadata": {},
   "outputs": [],
   "source": [
    "data_sample = data.sample(frac=0.027)\n",
    "data_sample.to_excel('C:/Users/Generation UK&I/OneDrive/Desktop/Final project/data_sample.xlsx')\n",
    "print(data_sample.head())"
   ]
  },
  {
   "cell_type": "code",
   "execution_count": null,
   "metadata": {},
   "outputs": [],
   "source": [
    "drop_indices = data_sample.index\n",
    "datawithoutsample = data.drop(drop_indices)\n",
    "print(datawithoutsample.head())\n",
    "datawithoutsample.to_excel('C:/Users/Generation UK&I/OneDrive/Desktop/Final project/data_without_sample3.xlsx')"
   ]
  },
  {
   "cell_type": "code",
   "execution_count": null,
   "metadata": {},
   "outputs": [],
   "source": [
    "english_list=[]\n",
    "message=data_sample['review_comment_message']\n",
    "df_split = np.array_split(message,20)"
   ]
  },
  {
   "cell_type": "code",
   "execution_count": null,
   "metadata": {},
   "outputs": [],
   "source": [
    "for chunk in df_split:\n",
    "    for ind in chunk.index:\n",
    "         x = chunk[ind]\n",
    "         blob = TextBlob(x)\n",
    "         translated = blob.translate(from_lang='pt', to='en')\n",
    "         time.sleep(2)\n",
    "         english_list.append(translated)\n",
    "    break"
   ]
  },
  {
   "cell_type": "code",
   "execution_count": null,
   "metadata": {},
   "outputs": [],
   "source": [
    "df_split.pop(0)\n",
    "for chunk in df_split:\n",
    "    print(chunk)\n",
    "    break"
   ]
  },
  {
   "cell_type": "code",
   "execution_count": null,
   "metadata": {},
   "outputs": [],
   "source": [
    "print(len(english_list))\n",
    "print(english_list[0])\n",
    "new=[]\n",
    "for i in range(len(english_list)):\n",
    "    new.append(str(english_list[i]))\n",
    "print(new)\n",
    "df=pd.DataFrame(new)\n",
    "#print(df)\n"
   ]
  },
  {
   "cell_type": "code",
   "execution_count": null,
   "metadata": {},
   "outputs": [],
   "source": [
    "df.to_excel('C:/Users/Generation UK&I/OneDrive/Desktop/Final project/english_reviews.xlsx')\n",
    "english_list=[]"
   ]
  },
  {
   "cell_type": "code",
   "execution_count": null,
   "metadata": {},
   "outputs": [],
   "source": [
    "data = pd.read_excel('C:/Users/Generation UK&I/OneDrive/Desktop/Final project/SA_eng.xlsx').astype('str')\n",
    "print(data.info())"
   ]
  },
  {
   "cell_type": "code",
   "execution_count": null,
   "metadata": {},
   "outputs": [],
   "source": [
    "sia=SentimentIntensityAnalyzer()\n",
    "data['polarity_scores']=data['Reviews'].apply(lambda x: sia.polarity_scores(x))\n",
    "print(data.head())\n",
    "data.to_excel('C:/Users/Generation UK&I/OneDrive/Desktop/Final project/SA_eng.xlsx')"
   ]
  }
 ],
 "metadata": {
  "kernelspec": {
   "display_name": "Python 3",
   "language": "python",
   "name": "python3"
  },
  "language_info": {
   "name": "python",
   "version": "3.10.0 (tags/v3.10.0:b494f59, Oct  4 2021, 19:00:18) [MSC v.1929 64 bit (AMD64)]"
  },
  "orig_nbformat": 4,
  "vscode": {
   "interpreter": {
    "hash": "46e6f985c5a244cc5a81d362c006918ddd420e48af97dcfa68428b423f9c91e3"
   }
  }
 },
 "nbformat": 4,
 "nbformat_minor": 2
}
